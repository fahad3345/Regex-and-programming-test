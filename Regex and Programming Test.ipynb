{
 "cells": [
  {
   "cell_type": "code",
   "execution_count": 38,
   "metadata": {},
   "outputs": [],
   "source": [
    "import PyPDF2\n",
    "import json"
   ]
  },
  {
   "cell_type": "code",
   "execution_count": 46,
   "metadata": {},
   "outputs": [],
   "source": [
    "def read_pdf(file_path):\n",
    "    # Open the PDF file\n",
    "    pdf_file = open(file_path, 'rb')\n",
    "    pdf_reader = PyPDF2.PdfReader(pdf_file)\n",
    "\n",
    "    # Get the first page of the PDF\n",
    "    page = pdf_reader.pages[0]\n",
    "    text = page.extract_text()\n",
    "    \n",
    "    pattern = re.compile(r'(\\d+)\\n([A-Za-z\\s(\\d|\\d.\\d)\\/-]+)\\n(\\$[\\d\\.]+)\\sfor\\severy\\sGB-second\\n(\\$[\\d\\.]+)\\sper\\s1M\\srequests')\n",
    "\n",
    "    matches = pattern.findall(text)\n",
    "    # Create a list of dictionaries with the extracted information\n",
    "    output_list = []\n",
    "    for match in matches:\n",
    "        output_dict = {\n",
    "            'id': match[0],\n",
    "            'Architecture': match[1],\n",
    "            'Duration': match[2] +' for every GB-second',\n",
    "            'Requests': '$0.20 per 1M requests'\n",
    "        }\n",
    "        output_list.append(output_dict)\n",
    "    # Convert the list to JSON format\n",
    "    output_json = json.dumps({'output': output_list})\n",
    "\n",
    "    #return output_json\n",
    "    return output_list"
   ]
  },
  {
   "cell_type": "code",
   "execution_count": 47,
   "metadata": {},
   "outputs": [
    {
     "data": {
      "application/javascript": [
       "\n",
       "        if (window._pyforest_update_imports_cell) { window._pyforest_update_imports_cell('import re'); }\n",
       "    "
      ],
      "text/plain": [
       "<IPython.core.display.Javascript object>"
      ]
     },
     "metadata": {},
     "output_type": "display_data"
    },
    {
     "data": {
      "text/plain": [
       "[{'id': '0',\n",
       "  'Architecture': 'First 6 Billion GB-seconds / month',\n",
       "  'Duration': '$0.0000166667 for every GB-second',\n",
       "  'Requests': '$0.20 per 1M requests'},\n",
       " {'id': '1',\n",
       "  'Architecture': 'Next 9 Billion GB-seconds / month',\n",
       "  'Duration': '$0.000015 for every GB-second',\n",
       "  'Requests': '$0.20 per 1M requests'},\n",
       " {'id': '2',\n",
       "  'Architecture': 'Over 15 Billion GB-seconds / month',\n",
       "  'Duration': '$0.0000133334 for every GB-second',\n",
       "  'Requests': '$0.20 per 1M requests'},\n",
       " {'id': '3',\n",
       "  'Architecture': 'First 7.5 Billion GB-seconds / month',\n",
       "  'Duration': '$0.0000133334 for every GB-second',\n",
       "  'Requests': '$0.20 per 1M requests'},\n",
       " {'id': '4',\n",
       "  'Architecture': 'Next 1 1.25 Billion GB-seconds / month',\n",
       "  'Duration': '$0.0000120001 for every GB-second',\n",
       "  'Requests': '$0.20 per 1M requests'},\n",
       " {'id': '5',\n",
       "  'Architecture': 'Over 18.75 Billion GB-seconds / month',\n",
       "  'Duration': '$0.0000106667 for every GB-second',\n",
       "  'Requests': '$0.20 per 1M requests'}]"
      ]
     },
     "execution_count": 47,
     "metadata": {},
     "output_type": "execute_result"
    }
   ],
   "source": [
    "output = read_pdf('AWS Lambda Pricing.pdf')\n",
    "output"
   ]
  },
  {
   "cell_type": "code",
   "execution_count": null,
   "metadata": {},
   "outputs": [],
   "source": []
  }
 ],
 "metadata": {
  "kernelspec": {
   "display_name": "Python 3",
   "language": "python",
   "name": "python3"
  },
  "language_info": {
   "codemirror_mode": {
    "name": "ipython",
    "version": 3
   },
   "file_extension": ".py",
   "mimetype": "text/x-python",
   "name": "python",
   "nbconvert_exporter": "python",
   "pygments_lexer": "ipython3",
   "version": "3.8.5"
  }
 },
 "nbformat": 4,
 "nbformat_minor": 4
}
